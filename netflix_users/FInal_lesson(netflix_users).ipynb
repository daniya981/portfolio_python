{
  "nbformat": 4,
  "nbformat_minor": 0,
  "metadata": {
    "colab": {
      "provenance": []
    },
    "kernelspec": {
      "name": "python3",
      "display_name": "Python 3"
    },
    "language_info": {
      "name": "python"
    }
  },
  "cells": [
    {
      "cell_type": "markdown",
      "source": [
        "# Загрузка данных"
      ],
      "metadata": {
        "id": "fbcHPfz2_GHz"
      }
    },
    {
      "cell_type": "code",
      "execution_count": null,
      "metadata": {
        "id": "wXlM-85A9aCZ"
      },
      "outputs": [],
      "source": [
        "import pandas as pd\n",
        "data = pd.read_csv('/content/netflix_users_data.csv')"
      ]
    },
    {
      "cell_type": "code",
      "source": [
        "data"
      ],
      "metadata": {
        "colab": {
          "base_uri": "https://localhost:8080/",
          "height": 423
        },
        "id": "j3pA8bHt-y5f",
        "outputId": "23284747-3659-4c97-df87-a38c167cdffd"
      },
      "execution_count": null,
      "outputs": [
        {
          "output_type": "execute_result",
          "data": {
            "text/plain": [
              "      userId subscriptionType  monthlyRevenue   joinDate lastPaymentDate  \\\n",
              "0          1            Basic              10 2022-01-15      2023-10-06   \n",
              "1          2          Premium              15 2021-05-09      2023-06-22   \n",
              "2          3         Standard              12 2023-02-28      2023-06-27   \n",
              "3          4         Standard              12 2022-10-07      2023-06-26   \n",
              "4          5            Basic              10 2023-01-05      2023-06-28   \n",
              "...      ...              ...             ...        ...             ...   \n",
              "2495    2496          Premium              14 2022-07-25      2023-12-07   \n",
              "2496    2497            Basic              15 2022-04-08      2023-07-14   \n",
              "2497    2498         Standard              12 2022-09-08      2023-07-15   \n",
              "2498    2499         Standard              13 2022-12-08      2023-12-07   \n",
              "2499    2500            Basic              15 2022-08-13      2023-12-07   \n",
              "\n",
              "             country  age  gender      device planDuration  \n",
              "0      United States   28    Male  Smartphone      1 Month  \n",
              "1             Canada   35  Female      Tablet      1 Month  \n",
              "2     United Kingdom   42    Male    Smart TV      1 Month  \n",
              "3          Australia   51  Female      Laptop      1 Month  \n",
              "4            Germany   33    Male  Smartphone      1 Month  \n",
              "...              ...  ...     ...         ...          ...  \n",
              "2495           Spain   28  Female    Smart TV      1 Month  \n",
              "2496           Spain   33  Female    Smart TV      1 Month  \n",
              "2497   United States   38    Male      Laptop      1 Month  \n",
              "2498          Canada   48  Female      Tablet      1 Month  \n",
              "2499   United States   35  Female    Smart TV      1 Month  \n",
              "\n",
              "[2500 rows x 10 columns]"
            ],
            "text/html": [
              "\n",
              "  <div id=\"df-fe95c4b3-1a62-43be-9045-fbda340e905c\" class=\"colab-df-container\">\n",
              "    <div>\n",
              "<style scoped>\n",
              "    .dataframe tbody tr th:only-of-type {\n",
              "        vertical-align: middle;\n",
              "    }\n",
              "\n",
              "    .dataframe tbody tr th {\n",
              "        vertical-align: top;\n",
              "    }\n",
              "\n",
              "    .dataframe thead th {\n",
              "        text-align: right;\n",
              "    }\n",
              "</style>\n",
              "<table border=\"1\" class=\"dataframe\">\n",
              "  <thead>\n",
              "    <tr style=\"text-align: right;\">\n",
              "      <th></th>\n",
              "      <th>userId</th>\n",
              "      <th>subscriptionType</th>\n",
              "      <th>monthlyRevenue</th>\n",
              "      <th>joinDate</th>\n",
              "      <th>lastPaymentDate</th>\n",
              "      <th>country</th>\n",
              "      <th>age</th>\n",
              "      <th>gender</th>\n",
              "      <th>device</th>\n",
              "      <th>planDuration</th>\n",
              "    </tr>\n",
              "  </thead>\n",
              "  <tbody>\n",
              "    <tr>\n",
              "      <th>0</th>\n",
              "      <td>1</td>\n",
              "      <td>Basic</td>\n",
              "      <td>10</td>\n",
              "      <td>2022-01-15</td>\n",
              "      <td>2023-10-06</td>\n",
              "      <td>United States</td>\n",
              "      <td>28</td>\n",
              "      <td>Male</td>\n",
              "      <td>Smartphone</td>\n",
              "      <td>1 Month</td>\n",
              "    </tr>\n",
              "    <tr>\n",
              "      <th>1</th>\n",
              "      <td>2</td>\n",
              "      <td>Premium</td>\n",
              "      <td>15</td>\n",
              "      <td>2021-05-09</td>\n",
              "      <td>2023-06-22</td>\n",
              "      <td>Canada</td>\n",
              "      <td>35</td>\n",
              "      <td>Female</td>\n",
              "      <td>Tablet</td>\n",
              "      <td>1 Month</td>\n",
              "    </tr>\n",
              "    <tr>\n",
              "      <th>2</th>\n",
              "      <td>3</td>\n",
              "      <td>Standard</td>\n",
              "      <td>12</td>\n",
              "      <td>2023-02-28</td>\n",
              "      <td>2023-06-27</td>\n",
              "      <td>United Kingdom</td>\n",
              "      <td>42</td>\n",
              "      <td>Male</td>\n",
              "      <td>Smart TV</td>\n",
              "      <td>1 Month</td>\n",
              "    </tr>\n",
              "    <tr>\n",
              "      <th>3</th>\n",
              "      <td>4</td>\n",
              "      <td>Standard</td>\n",
              "      <td>12</td>\n",
              "      <td>2022-10-07</td>\n",
              "      <td>2023-06-26</td>\n",
              "      <td>Australia</td>\n",
              "      <td>51</td>\n",
              "      <td>Female</td>\n",
              "      <td>Laptop</td>\n",
              "      <td>1 Month</td>\n",
              "    </tr>\n",
              "    <tr>\n",
              "      <th>4</th>\n",
              "      <td>5</td>\n",
              "      <td>Basic</td>\n",
              "      <td>10</td>\n",
              "      <td>2023-01-05</td>\n",
              "      <td>2023-06-28</td>\n",
              "      <td>Germany</td>\n",
              "      <td>33</td>\n",
              "      <td>Male</td>\n",
              "      <td>Smartphone</td>\n",
              "      <td>1 Month</td>\n",
              "    </tr>\n",
              "    <tr>\n",
              "      <th>...</th>\n",
              "      <td>...</td>\n",
              "      <td>...</td>\n",
              "      <td>...</td>\n",
              "      <td>...</td>\n",
              "      <td>...</td>\n",
              "      <td>...</td>\n",
              "      <td>...</td>\n",
              "      <td>...</td>\n",
              "      <td>...</td>\n",
              "      <td>...</td>\n",
              "    </tr>\n",
              "    <tr>\n",
              "      <th>2495</th>\n",
              "      <td>2496</td>\n",
              "      <td>Premium</td>\n",
              "      <td>14</td>\n",
              "      <td>2022-07-25</td>\n",
              "      <td>2023-12-07</td>\n",
              "      <td>Spain</td>\n",
              "      <td>28</td>\n",
              "      <td>Female</td>\n",
              "      <td>Smart TV</td>\n",
              "      <td>1 Month</td>\n",
              "    </tr>\n",
              "    <tr>\n",
              "      <th>2496</th>\n",
              "      <td>2497</td>\n",
              "      <td>Basic</td>\n",
              "      <td>15</td>\n",
              "      <td>2022-04-08</td>\n",
              "      <td>2023-07-14</td>\n",
              "      <td>Spain</td>\n",
              "      <td>33</td>\n",
              "      <td>Female</td>\n",
              "      <td>Smart TV</td>\n",
              "      <td>1 Month</td>\n",
              "    </tr>\n",
              "    <tr>\n",
              "      <th>2497</th>\n",
              "      <td>2498</td>\n",
              "      <td>Standard</td>\n",
              "      <td>12</td>\n",
              "      <td>2022-09-08</td>\n",
              "      <td>2023-07-15</td>\n",
              "      <td>United States</td>\n",
              "      <td>38</td>\n",
              "      <td>Male</td>\n",
              "      <td>Laptop</td>\n",
              "      <td>1 Month</td>\n",
              "    </tr>\n",
              "    <tr>\n",
              "      <th>2498</th>\n",
              "      <td>2499</td>\n",
              "      <td>Standard</td>\n",
              "      <td>13</td>\n",
              "      <td>2022-12-08</td>\n",
              "      <td>2023-12-07</td>\n",
              "      <td>Canada</td>\n",
              "      <td>48</td>\n",
              "      <td>Female</td>\n",
              "      <td>Tablet</td>\n",
              "      <td>1 Month</td>\n",
              "    </tr>\n",
              "    <tr>\n",
              "      <th>2499</th>\n",
              "      <td>2500</td>\n",
              "      <td>Basic</td>\n",
              "      <td>15</td>\n",
              "      <td>2022-08-13</td>\n",
              "      <td>2023-12-07</td>\n",
              "      <td>United States</td>\n",
              "      <td>35</td>\n",
              "      <td>Female</td>\n",
              "      <td>Smart TV</td>\n",
              "      <td>1 Month</td>\n",
              "    </tr>\n",
              "  </tbody>\n",
              "</table>\n",
              "<p>2500 rows × 10 columns</p>\n",
              "</div>\n",
              "    <div class=\"colab-df-buttons\">\n",
              "\n",
              "  <div class=\"colab-df-container\">\n",
              "    <button class=\"colab-df-convert\" onclick=\"convertToInteractive('df-fe95c4b3-1a62-43be-9045-fbda340e905c')\"\n",
              "            title=\"Convert this dataframe to an interactive table.\"\n",
              "            style=\"display:none;\">\n",
              "\n",
              "  <svg xmlns=\"http://www.w3.org/2000/svg\" height=\"24px\" viewBox=\"0 -960 960 960\">\n",
              "    <path d=\"M120-120v-720h720v720H120Zm60-500h600v-160H180v160Zm220 220h160v-160H400v160Zm0 220h160v-160H400v160ZM180-400h160v-160H180v160Zm440 0h160v-160H620v160ZM180-180h160v-160H180v160Zm440 0h160v-160H620v160Z\"/>\n",
              "  </svg>\n",
              "    </button>\n",
              "\n",
              "  <style>\n",
              "    .colab-df-container {\n",
              "      display:flex;\n",
              "      gap: 12px;\n",
              "    }\n",
              "\n",
              "    .colab-df-convert {\n",
              "      background-color: #E8F0FE;\n",
              "      border: none;\n",
              "      border-radius: 50%;\n",
              "      cursor: pointer;\n",
              "      display: none;\n",
              "      fill: #1967D2;\n",
              "      height: 32px;\n",
              "      padding: 0 0 0 0;\n",
              "      width: 32px;\n",
              "    }\n",
              "\n",
              "    .colab-df-convert:hover {\n",
              "      background-color: #E2EBFA;\n",
              "      box-shadow: 0px 1px 2px rgba(60, 64, 67, 0.3), 0px 1px 3px 1px rgba(60, 64, 67, 0.15);\n",
              "      fill: #174EA6;\n",
              "    }\n",
              "\n",
              "    .colab-df-buttons div {\n",
              "      margin-bottom: 4px;\n",
              "    }\n",
              "\n",
              "    [theme=dark] .colab-df-convert {\n",
              "      background-color: #3B4455;\n",
              "      fill: #D2E3FC;\n",
              "    }\n",
              "\n",
              "    [theme=dark] .colab-df-convert:hover {\n",
              "      background-color: #434B5C;\n",
              "      box-shadow: 0px 1px 3px 1px rgba(0, 0, 0, 0.15);\n",
              "      filter: drop-shadow(0px 1px 2px rgba(0, 0, 0, 0.3));\n",
              "      fill: #FFFFFF;\n",
              "    }\n",
              "  </style>\n",
              "\n",
              "    <script>\n",
              "      const buttonEl =\n",
              "        document.querySelector('#df-fe95c4b3-1a62-43be-9045-fbda340e905c button.colab-df-convert');\n",
              "      buttonEl.style.display =\n",
              "        google.colab.kernel.accessAllowed ? 'block' : 'none';\n",
              "\n",
              "      async function convertToInteractive(key) {\n",
              "        const element = document.querySelector('#df-fe95c4b3-1a62-43be-9045-fbda340e905c');\n",
              "        const dataTable =\n",
              "          await google.colab.kernel.invokeFunction('convertToInteractive',\n",
              "                                                    [key], {});\n",
              "        if (!dataTable) return;\n",
              "\n",
              "        const docLinkHtml = 'Like what you see? Visit the ' +\n",
              "          '<a target=\"_blank\" href=https://colab.research.google.com/notebooks/data_table.ipynb>data table notebook</a>'\n",
              "          + ' to learn more about interactive tables.';\n",
              "        element.innerHTML = '';\n",
              "        dataTable['output_type'] = 'display_data';\n",
              "        await google.colab.output.renderOutput(dataTable, element);\n",
              "        const docLink = document.createElement('div');\n",
              "        docLink.innerHTML = docLinkHtml;\n",
              "        element.appendChild(docLink);\n",
              "      }\n",
              "    </script>\n",
              "  </div>\n",
              "\n",
              "\n",
              "    <div id=\"df-59a3d66b-e095-4b25-80c6-d5c7e72da0b0\">\n",
              "      <button class=\"colab-df-quickchart\" onclick=\"quickchart('df-59a3d66b-e095-4b25-80c6-d5c7e72da0b0')\"\n",
              "                title=\"Suggest charts\"\n",
              "                style=\"display:none;\">\n",
              "\n",
              "<svg xmlns=\"http://www.w3.org/2000/svg\" height=\"24px\"viewBox=\"0 0 24 24\"\n",
              "     width=\"24px\">\n",
              "    <g>\n",
              "        <path d=\"M19 3H5c-1.1 0-2 .9-2 2v14c0 1.1.9 2 2 2h14c1.1 0 2-.9 2-2V5c0-1.1-.9-2-2-2zM9 17H7v-7h2v7zm4 0h-2V7h2v10zm4 0h-2v-4h2v4z\"/>\n",
              "    </g>\n",
              "</svg>\n",
              "      </button>\n",
              "\n",
              "<style>\n",
              "  .colab-df-quickchart {\n",
              "      --bg-color: #E8F0FE;\n",
              "      --fill-color: #1967D2;\n",
              "      --hover-bg-color: #E2EBFA;\n",
              "      --hover-fill-color: #174EA6;\n",
              "      --disabled-fill-color: #AAA;\n",
              "      --disabled-bg-color: #DDD;\n",
              "  }\n",
              "\n",
              "  [theme=dark] .colab-df-quickchart {\n",
              "      --bg-color: #3B4455;\n",
              "      --fill-color: #D2E3FC;\n",
              "      --hover-bg-color: #434B5C;\n",
              "      --hover-fill-color: #FFFFFF;\n",
              "      --disabled-bg-color: #3B4455;\n",
              "      --disabled-fill-color: #666;\n",
              "  }\n",
              "\n",
              "  .colab-df-quickchart {\n",
              "    background-color: var(--bg-color);\n",
              "    border: none;\n",
              "    border-radius: 50%;\n",
              "    cursor: pointer;\n",
              "    display: none;\n",
              "    fill: var(--fill-color);\n",
              "    height: 32px;\n",
              "    padding: 0;\n",
              "    width: 32px;\n",
              "  }\n",
              "\n",
              "  .colab-df-quickchart:hover {\n",
              "    background-color: var(--hover-bg-color);\n",
              "    box-shadow: 0 1px 2px rgba(60, 64, 67, 0.3), 0 1px 3px 1px rgba(60, 64, 67, 0.15);\n",
              "    fill: var(--button-hover-fill-color);\n",
              "  }\n",
              "\n",
              "  .colab-df-quickchart-complete:disabled,\n",
              "  .colab-df-quickchart-complete:disabled:hover {\n",
              "    background-color: var(--disabled-bg-color);\n",
              "    fill: var(--disabled-fill-color);\n",
              "    box-shadow: none;\n",
              "  }\n",
              "\n",
              "  .colab-df-spinner {\n",
              "    border: 2px solid var(--fill-color);\n",
              "    border-color: transparent;\n",
              "    border-bottom-color: var(--fill-color);\n",
              "    animation:\n",
              "      spin 1s steps(1) infinite;\n",
              "  }\n",
              "\n",
              "  @keyframes spin {\n",
              "    0% {\n",
              "      border-color: transparent;\n",
              "      border-bottom-color: var(--fill-color);\n",
              "      border-left-color: var(--fill-color);\n",
              "    }\n",
              "    20% {\n",
              "      border-color: transparent;\n",
              "      border-left-color: var(--fill-color);\n",
              "      border-top-color: var(--fill-color);\n",
              "    }\n",
              "    30% {\n",
              "      border-color: transparent;\n",
              "      border-left-color: var(--fill-color);\n",
              "      border-top-color: var(--fill-color);\n",
              "      border-right-color: var(--fill-color);\n",
              "    }\n",
              "    40% {\n",
              "      border-color: transparent;\n",
              "      border-right-color: var(--fill-color);\n",
              "      border-top-color: var(--fill-color);\n",
              "    }\n",
              "    60% {\n",
              "      border-color: transparent;\n",
              "      border-right-color: var(--fill-color);\n",
              "    }\n",
              "    80% {\n",
              "      border-color: transparent;\n",
              "      border-right-color: var(--fill-color);\n",
              "      border-bottom-color: var(--fill-color);\n",
              "    }\n",
              "    90% {\n",
              "      border-color: transparent;\n",
              "      border-bottom-color: var(--fill-color);\n",
              "    }\n",
              "  }\n",
              "</style>\n",
              "\n",
              "      <script>\n",
              "        async function quickchart(key) {\n",
              "          const quickchartButtonEl =\n",
              "            document.querySelector('#' + key + ' button');\n",
              "          quickchartButtonEl.disabled = true;  // To prevent multiple clicks.\n",
              "          quickchartButtonEl.classList.add('colab-df-spinner');\n",
              "          try {\n",
              "            const charts = await google.colab.kernel.invokeFunction(\n",
              "                'suggestCharts', [key], {});\n",
              "          } catch (error) {\n",
              "            console.error('Error during call to suggestCharts:', error);\n",
              "          }\n",
              "          quickchartButtonEl.classList.remove('colab-df-spinner');\n",
              "          quickchartButtonEl.classList.add('colab-df-quickchart-complete');\n",
              "        }\n",
              "        (() => {\n",
              "          let quickchartButtonEl =\n",
              "            document.querySelector('#df-59a3d66b-e095-4b25-80c6-d5c7e72da0b0 button');\n",
              "          quickchartButtonEl.style.display =\n",
              "            google.colab.kernel.accessAllowed ? 'block' : 'none';\n",
              "        })();\n",
              "      </script>\n",
              "    </div>\n",
              "    </div>\n",
              "  </div>\n"
            ],
            "application/vnd.google.colaboratory.intrinsic+json": {
              "type": "dataframe",
              "variable_name": "data",
              "summary": "{\n  \"name\": \"data\",\n  \"rows\": 2500,\n  \"fields\": [\n    {\n      \"column\": \"userId\",\n      \"properties\": {\n        \"dtype\": \"number\",\n        \"std\": 721,\n        \"min\": 1,\n        \"max\": 2500,\n        \"num_unique_values\": 2500,\n        \"samples\": [\n          1448,\n          1115,\n          1065\n        ],\n        \"semantic_type\": \"\",\n        \"description\": \"\"\n      }\n    },\n    {\n      \"column\": \"subscriptionType\",\n      \"properties\": {\n        \"dtype\": \"category\",\n        \"num_unique_values\": 3,\n        \"samples\": [\n          \"Basic\",\n          \"Premium\",\n          \"Standard\"\n        ],\n        \"semantic_type\": \"\",\n        \"description\": \"\"\n      }\n    },\n    {\n      \"column\": \"monthlyRevenue\",\n      \"properties\": {\n        \"dtype\": \"number\",\n        \"std\": 1,\n        \"min\": 10,\n        \"max\": 15,\n        \"num_unique_values\": 6,\n        \"samples\": [\n          10,\n          15,\n          14\n        ],\n        \"semantic_type\": \"\",\n        \"description\": \"\"\n      }\n    },\n    {\n      \"column\": \"joinDate\",\n      \"properties\": {\n        \"dtype\": \"date\",\n        \"min\": \"2021-05-09 00:00:00\",\n        \"max\": \"2023-12-01 00:00:00\",\n        \"num_unique_values\": 300,\n        \"samples\": [\n          \"2022-02-08 00:00:00\",\n          \"2022-08-18 00:00:00\",\n          \"2022-07-16 00:00:00\"\n        ],\n        \"semantic_type\": \"\",\n        \"description\": \"\"\n      }\n    },\n    {\n      \"column\": \"lastPaymentDate\",\n      \"properties\": {\n        \"dtype\": \"date\",\n        \"min\": \"2023-01-07 00:00:00\",\n        \"max\": \"2023-12-07 00:00:00\",\n        \"num_unique_values\": 26,\n        \"samples\": [\n          \"2023-06-20 00:00:00\",\n          \"2023-06-07 00:00:00\",\n          \"2023-10-06 00:00:00\"\n        ],\n        \"semantic_type\": \"\",\n        \"description\": \"\"\n      }\n    },\n    {\n      \"column\": \"country\",\n      \"properties\": {\n        \"dtype\": \"category\",\n        \"num_unique_values\": 10,\n        \"samples\": [\n          \"Spain\",\n          \"Canada\",\n          \"France\"\n        ],\n        \"semantic_type\": \"\",\n        \"description\": \"\"\n      }\n    },\n    {\n      \"column\": \"age\",\n      \"properties\": {\n        \"dtype\": \"number\",\n        \"std\": 7,\n        \"min\": 26,\n        \"max\": 51,\n        \"num_unique_values\": 26,\n        \"samples\": [\n          37,\n          30,\n          28\n        ],\n        \"semantic_type\": \"\",\n        \"description\": \"\"\n      }\n    },\n    {\n      \"column\": \"gender\",\n      \"properties\": {\n        \"dtype\": \"category\",\n        \"num_unique_values\": 2,\n        \"samples\": [\n          \"Female\",\n          \"Male\"\n        ],\n        \"semantic_type\": \"\",\n        \"description\": \"\"\n      }\n    },\n    {\n      \"column\": \"device\",\n      \"properties\": {\n        \"dtype\": \"category\",\n        \"num_unique_values\": 4,\n        \"samples\": [\n          \"Tablet\",\n          \"Laptop\"\n        ],\n        \"semantic_type\": \"\",\n        \"description\": \"\"\n      }\n    },\n    {\n      \"column\": \"planDuration\",\n      \"properties\": {\n        \"dtype\": \"category\",\n        \"num_unique_values\": 1,\n        \"samples\": [\n          \"1 Month\"\n        ],\n        \"semantic_type\": \"\",\n        \"description\": \"\"\n      }\n    }\n  ]\n}"
            }
          },
          "metadata": {},
          "execution_count": 21
        }
      ]
    },
    {
      "cell_type": "markdown",
      "source": [
        "# Приведение столбцов к стилю camel_case"
      ],
      "metadata": {
        "id": "7y7mEmcc_LQb"
      }
    },
    {
      "cell_type": "code",
      "source": [
        "import re"
      ],
      "metadata": {
        "id": "nGEdHW3K_L7r"
      },
      "execution_count": null,
      "outputs": []
    },
    {
      "cell_type": "code",
      "source": [
        "def to_camel_case(s: str) -> str:\n",
        "    # Убираем лишние пробелы по краям и приводим к нижнему регистру слова\n",
        "    parts = re.split(r'\\s+|_', s.strip())\n",
        "    # Первое слово в нижнем регистре, остальные с заглавной буквы\n",
        "    return parts[0].lower() + ''.join(word.capitalize() for word in parts[1:])"
      ],
      "metadata": {
        "id": "W0uSB8XZ_hHQ"
      },
      "execution_count": null,
      "outputs": []
    },
    {
      "cell_type": "code",
      "source": [
        "# Преобразуем названия колонок\n",
        "data.columns = [to_camel_case(col) for col in data.columns]\n",
        "\n",
        "print(data.columns)"
      ],
      "metadata": {
        "colab": {
          "base_uri": "https://localhost:8080/"
        },
        "id": "SDKo1ofm_lie",
        "outputId": "09782c65-5bd8-4bd5-8aa6-aed48de0bd76"
      },
      "execution_count": null,
      "outputs": [
        {
          "output_type": "stream",
          "name": "stdout",
          "text": [
            "Index(['userId', 'subscriptionType', 'monthlyRevenue', 'joinDate',\n",
            "       'lastPaymentDate', 'country', 'age', 'gender', 'device',\n",
            "       'planDuration'],\n",
            "      dtype='object')\n"
          ]
        }
      ]
    },
    {
      "cell_type": "markdown",
      "source": [
        "# Приведение типов данных"
      ],
      "metadata": {
        "id": "p9qj-SXLABaC"
      }
    },
    {
      "cell_type": "code",
      "source": [
        "#приведение даты к типу datetime\n",
        "date_columns = ['joinDate', 'lastPaymentDate']\n",
        "\n",
        "for col in date_columns:\n",
        "    data[col] = pd.to_datetime(data[col], errors='coerce')"
      ],
      "metadata": {
        "id": "MqxwNGFAUpEN"
      },
      "execution_count": null,
      "outputs": []
    },
    {
      "cell_type": "code",
      "source": [
        "# Проверим типы\n",
        "print(data.dtypes)"
      ],
      "metadata": {
        "colab": {
          "base_uri": "https://localhost:8080/"
        },
        "id": "_JBxyKDhUsw9",
        "outputId": "832aad36-52e6-42d8-a755-258d324cceeb"
      },
      "execution_count": null,
      "outputs": [
        {
          "output_type": "stream",
          "name": "stdout",
          "text": [
            "userId                       int64\n",
            "subscriptionType            object\n",
            "monthlyRevenue               int64\n",
            "joinDate            datetime64[ns]\n",
            "lastPaymentDate     datetime64[ns]\n",
            "country                     object\n",
            "age                          int64\n",
            "gender                      object\n",
            "device                      object\n",
            "planDuration                object\n",
            "dtype: object\n"
          ]
        }
      ]
    },
    {
      "cell_type": "markdown",
      "source": [
        "# Поиск дублей и пропусков в данных"
      ],
      "metadata": {
        "id": "9gc3pgEfV5IC"
      }
    },
    {
      "cell_type": "code",
      "source": [
        "#Поиск дублей\n",
        "duplicates = data[data.duplicated(keep=False)]\n",
        "print(\"Дублирующиеся строки:\")\n",
        "print(duplicates)"
      ],
      "metadata": {
        "colab": {
          "base_uri": "https://localhost:8080/"
        },
        "id": "GFoaTVmtWJsK",
        "outputId": "10e6c536-4af0-44d3-d60c-3054214bb176"
      },
      "execution_count": null,
      "outputs": [
        {
          "output_type": "stream",
          "name": "stdout",
          "text": [
            "Дублирующиеся строки:\n",
            "Empty DataFrame\n",
            "Columns: [userId, subscriptionType, monthlyRevenue, joinDate, lastPaymentDate, country, age, gender, device, planDuration]\n",
            "Index: []\n"
          ]
        }
      ]
    },
    {
      "cell_type": "code",
      "source": [
        "# Количество дублей\n",
        "print(\"\\nКоличество дублей:\", data.duplicated().sum())"
      ],
      "metadata": {
        "colab": {
          "base_uri": "https://localhost:8080/"
        },
        "id": "tUaqfl0bWN-O",
        "outputId": "eb40e503-ec12-4759-e185-9dad97686389"
      },
      "execution_count": null,
      "outputs": [
        {
          "output_type": "stream",
          "name": "stdout",
          "text": [
            "\n",
            "Количество дублей: 0\n"
          ]
        }
      ]
    },
    {
      "cell_type": "code",
      "source": [
        "#Поиск пропусков\n",
        "missing_per_column = data.isna().sum()\n",
        "print(\"\\nПропуски по каждому столбцу:\")\n",
        "print(missing_per_column)"
      ],
      "metadata": {
        "colab": {
          "base_uri": "https://localhost:8080/"
        },
        "id": "qYTbPziZWQOm",
        "outputId": "3d9f7897-6f59-41f2-bbd3-b0484d9a133f"
      },
      "execution_count": null,
      "outputs": [
        {
          "output_type": "stream",
          "name": "stdout",
          "text": [
            "\n",
            "Пропуски по каждому столбцу:\n",
            "userId              0\n",
            "subscriptionType    0\n",
            "monthlyRevenue      0\n",
            "joinDate            0\n",
            "lastPaymentDate     0\n",
            "country             0\n",
            "age                 0\n",
            "gender              0\n",
            "device              0\n",
            "planDuration        0\n",
            "dtype: int64\n"
          ]
        }
      ]
    },
    {
      "cell_type": "code",
      "source": [
        "# Общая доля пропусков\n",
        "missing_percent = data.isna().mean() * 100\n",
        "print(\"\\nПроцент пропусков по каждому столбцу:\")\n",
        "print(missing_percent)"
      ],
      "metadata": {
        "colab": {
          "base_uri": "https://localhost:8080/"
        },
        "id": "H8nAPU-NWUxD",
        "outputId": "1e6be0de-2570-4b60-c2c3-ea7a90b4ba75"
      },
      "execution_count": null,
      "outputs": [
        {
          "output_type": "stream",
          "name": "stdout",
          "text": [
            "\n",
            "Процент пропусков по каждому столбцу:\n",
            "userId              0.0\n",
            "subscriptionType    0.0\n",
            "monthlyRevenue      0.0\n",
            "joinDate            0.0\n",
            "lastPaymentDate     0.0\n",
            "country             0.0\n",
            "age                 0.0\n",
            "gender              0.0\n",
            "device              0.0\n",
            "planDuration        0.0\n",
            "dtype: float64\n"
          ]
        }
      ]
    },
    {
      "cell_type": "code",
      "source": [
        "# Строки с хотя бы одним пропуском\n",
        "rows_with_missing = data[data.isna().any(axis=1)]\n",
        "print(\"\\nСтроки с пропущенными значениями:\")\n",
        "print(rows_with_missing)"
      ],
      "metadata": {
        "colab": {
          "base_uri": "https://localhost:8080/"
        },
        "id": "s2qAa2MRWW9q",
        "outputId": "ae6cf774-0d72-45a8-aaec-85d179660c3b"
      },
      "execution_count": null,
      "outputs": [
        {
          "output_type": "stream",
          "name": "stdout",
          "text": [
            "\n",
            "Строки с пропущенными значениями:\n",
            "Empty DataFrame\n",
            "Columns: [userId, subscriptionType, monthlyRevenue, joinDate, lastPaymentDate, country, age, gender, device, planDuration]\n",
            "Index: []\n"
          ]
        }
      ]
    },
    {
      "cell_type": "markdown",
      "source": [
        "# Исследовательский анализ данных"
      ],
      "metadata": {
        "id": "_Z5YyOUiWktq"
      }
    },
    {
      "cell_type": "code",
      "source": [
        "data"
      ],
      "metadata": {
        "colab": {
          "base_uri": "https://localhost:8080/",
          "height": 423
        },
        "id": "Tgm8JEfFWrN6",
        "outputId": "c6fbf494-b7a4-48c5-f057-217944c7bed4"
      },
      "execution_count": null,
      "outputs": [
        {
          "output_type": "execute_result",
          "data": {
            "text/plain": [
              "      userId subscriptionType  monthlyRevenue   joinDate lastPaymentDate  \\\n",
              "0          1            Basic              10 2022-01-15      2023-10-06   \n",
              "1          2          Premium              15 2021-05-09      2023-06-22   \n",
              "2          3         Standard              12 2023-02-28      2023-06-27   \n",
              "3          4         Standard              12 2022-10-07      2023-06-26   \n",
              "4          5            Basic              10 2023-01-05      2023-06-28   \n",
              "...      ...              ...             ...        ...             ...   \n",
              "2495    2496          Premium              14 2022-07-25      2023-12-07   \n",
              "2496    2497            Basic              15 2022-04-08      2023-07-14   \n",
              "2497    2498         Standard              12 2022-09-08      2023-07-15   \n",
              "2498    2499         Standard              13 2022-12-08      2023-12-07   \n",
              "2499    2500            Basic              15 2022-08-13      2023-12-07   \n",
              "\n",
              "             country  age  gender      device planDuration  \n",
              "0      United States   28    Male  Smartphone      1 Month  \n",
              "1             Canada   35  Female      Tablet      1 Month  \n",
              "2     United Kingdom   42    Male    Smart TV      1 Month  \n",
              "3          Australia   51  Female      Laptop      1 Month  \n",
              "4            Germany   33    Male  Smartphone      1 Month  \n",
              "...              ...  ...     ...         ...          ...  \n",
              "2495           Spain   28  Female    Smart TV      1 Month  \n",
              "2496           Spain   33  Female    Smart TV      1 Month  \n",
              "2497   United States   38    Male      Laptop      1 Month  \n",
              "2498          Canada   48  Female      Tablet      1 Month  \n",
              "2499   United States   35  Female    Smart TV      1 Month  \n",
              "\n",
              "[2500 rows x 10 columns]"
            ],
            "text/html": [
              "\n",
              "  <div id=\"df-652460a4-5fec-4610-a3bb-045ad096cd09\" class=\"colab-df-container\">\n",
              "    <div>\n",
              "<style scoped>\n",
              "    .dataframe tbody tr th:only-of-type {\n",
              "        vertical-align: middle;\n",
              "    }\n",
              "\n",
              "    .dataframe tbody tr th {\n",
              "        vertical-align: top;\n",
              "    }\n",
              "\n",
              "    .dataframe thead th {\n",
              "        text-align: right;\n",
              "    }\n",
              "</style>\n",
              "<table border=\"1\" class=\"dataframe\">\n",
              "  <thead>\n",
              "    <tr style=\"text-align: right;\">\n",
              "      <th></th>\n",
              "      <th>userId</th>\n",
              "      <th>subscriptionType</th>\n",
              "      <th>monthlyRevenue</th>\n",
              "      <th>joinDate</th>\n",
              "      <th>lastPaymentDate</th>\n",
              "      <th>country</th>\n",
              "      <th>age</th>\n",
              "      <th>gender</th>\n",
              "      <th>device</th>\n",
              "      <th>planDuration</th>\n",
              "    </tr>\n",
              "  </thead>\n",
              "  <tbody>\n",
              "    <tr>\n",
              "      <th>0</th>\n",
              "      <td>1</td>\n",
              "      <td>Basic</td>\n",
              "      <td>10</td>\n",
              "      <td>2022-01-15</td>\n",
              "      <td>2023-10-06</td>\n",
              "      <td>United States</td>\n",
              "      <td>28</td>\n",
              "      <td>Male</td>\n",
              "      <td>Smartphone</td>\n",
              "      <td>1 Month</td>\n",
              "    </tr>\n",
              "    <tr>\n",
              "      <th>1</th>\n",
              "      <td>2</td>\n",
              "      <td>Premium</td>\n",
              "      <td>15</td>\n",
              "      <td>2021-05-09</td>\n",
              "      <td>2023-06-22</td>\n",
              "      <td>Canada</td>\n",
              "      <td>35</td>\n",
              "      <td>Female</td>\n",
              "      <td>Tablet</td>\n",
              "      <td>1 Month</td>\n",
              "    </tr>\n",
              "    <tr>\n",
              "      <th>2</th>\n",
              "      <td>3</td>\n",
              "      <td>Standard</td>\n",
              "      <td>12</td>\n",
              "      <td>2023-02-28</td>\n",
              "      <td>2023-06-27</td>\n",
              "      <td>United Kingdom</td>\n",
              "      <td>42</td>\n",
              "      <td>Male</td>\n",
              "      <td>Smart TV</td>\n",
              "      <td>1 Month</td>\n",
              "    </tr>\n",
              "    <tr>\n",
              "      <th>3</th>\n",
              "      <td>4</td>\n",
              "      <td>Standard</td>\n",
              "      <td>12</td>\n",
              "      <td>2022-10-07</td>\n",
              "      <td>2023-06-26</td>\n",
              "      <td>Australia</td>\n",
              "      <td>51</td>\n",
              "      <td>Female</td>\n",
              "      <td>Laptop</td>\n",
              "      <td>1 Month</td>\n",
              "    </tr>\n",
              "    <tr>\n",
              "      <th>4</th>\n",
              "      <td>5</td>\n",
              "      <td>Basic</td>\n",
              "      <td>10</td>\n",
              "      <td>2023-01-05</td>\n",
              "      <td>2023-06-28</td>\n",
              "      <td>Germany</td>\n",
              "      <td>33</td>\n",
              "      <td>Male</td>\n",
              "      <td>Smartphone</td>\n",
              "      <td>1 Month</td>\n",
              "    </tr>\n",
              "    <tr>\n",
              "      <th>...</th>\n",
              "      <td>...</td>\n",
              "      <td>...</td>\n",
              "      <td>...</td>\n",
              "      <td>...</td>\n",
              "      <td>...</td>\n",
              "      <td>...</td>\n",
              "      <td>...</td>\n",
              "      <td>...</td>\n",
              "      <td>...</td>\n",
              "      <td>...</td>\n",
              "    </tr>\n",
              "    <tr>\n",
              "      <th>2495</th>\n",
              "      <td>2496</td>\n",
              "      <td>Premium</td>\n",
              "      <td>14</td>\n",
              "      <td>2022-07-25</td>\n",
              "      <td>2023-12-07</td>\n",
              "      <td>Spain</td>\n",
              "      <td>28</td>\n",
              "      <td>Female</td>\n",
              "      <td>Smart TV</td>\n",
              "      <td>1 Month</td>\n",
              "    </tr>\n",
              "    <tr>\n",
              "      <th>2496</th>\n",
              "      <td>2497</td>\n",
              "      <td>Basic</td>\n",
              "      <td>15</td>\n",
              "      <td>2022-04-08</td>\n",
              "      <td>2023-07-14</td>\n",
              "      <td>Spain</td>\n",
              "      <td>33</td>\n",
              "      <td>Female</td>\n",
              "      <td>Smart TV</td>\n",
              "      <td>1 Month</td>\n",
              "    </tr>\n",
              "    <tr>\n",
              "      <th>2497</th>\n",
              "      <td>2498</td>\n",
              "      <td>Standard</td>\n",
              "      <td>12</td>\n",
              "      <td>2022-09-08</td>\n",
              "      <td>2023-07-15</td>\n",
              "      <td>United States</td>\n",
              "      <td>38</td>\n",
              "      <td>Male</td>\n",
              "      <td>Laptop</td>\n",
              "      <td>1 Month</td>\n",
              "    </tr>\n",
              "    <tr>\n",
              "      <th>2498</th>\n",
              "      <td>2499</td>\n",
              "      <td>Standard</td>\n",
              "      <td>13</td>\n",
              "      <td>2022-12-08</td>\n",
              "      <td>2023-12-07</td>\n",
              "      <td>Canada</td>\n",
              "      <td>48</td>\n",
              "      <td>Female</td>\n",
              "      <td>Tablet</td>\n",
              "      <td>1 Month</td>\n",
              "    </tr>\n",
              "    <tr>\n",
              "      <th>2499</th>\n",
              "      <td>2500</td>\n",
              "      <td>Basic</td>\n",
              "      <td>15</td>\n",
              "      <td>2022-08-13</td>\n",
              "      <td>2023-12-07</td>\n",
              "      <td>United States</td>\n",
              "      <td>35</td>\n",
              "      <td>Female</td>\n",
              "      <td>Smart TV</td>\n",
              "      <td>1 Month</td>\n",
              "    </tr>\n",
              "  </tbody>\n",
              "</table>\n",
              "<p>2500 rows × 10 columns</p>\n",
              "</div>\n",
              "    <div class=\"colab-df-buttons\">\n",
              "\n",
              "  <div class=\"colab-df-container\">\n",
              "    <button class=\"colab-df-convert\" onclick=\"convertToInteractive('df-652460a4-5fec-4610-a3bb-045ad096cd09')\"\n",
              "            title=\"Convert this dataframe to an interactive table.\"\n",
              "            style=\"display:none;\">\n",
              "\n",
              "  <svg xmlns=\"http://www.w3.org/2000/svg\" height=\"24px\" viewBox=\"0 -960 960 960\">\n",
              "    <path d=\"M120-120v-720h720v720H120Zm60-500h600v-160H180v160Zm220 220h160v-160H400v160Zm0 220h160v-160H400v160ZM180-400h160v-160H180v160Zm440 0h160v-160H620v160ZM180-180h160v-160H180v160Zm440 0h160v-160H620v160Z\"/>\n",
              "  </svg>\n",
              "    </button>\n",
              "\n",
              "  <style>\n",
              "    .colab-df-container {\n",
              "      display:flex;\n",
              "      gap: 12px;\n",
              "    }\n",
              "\n",
              "    .colab-df-convert {\n",
              "      background-color: #E8F0FE;\n",
              "      border: none;\n",
              "      border-radius: 50%;\n",
              "      cursor: pointer;\n",
              "      display: none;\n",
              "      fill: #1967D2;\n",
              "      height: 32px;\n",
              "      padding: 0 0 0 0;\n",
              "      width: 32px;\n",
              "    }\n",
              "\n",
              "    .colab-df-convert:hover {\n",
              "      background-color: #E2EBFA;\n",
              "      box-shadow: 0px 1px 2px rgba(60, 64, 67, 0.3), 0px 1px 3px 1px rgba(60, 64, 67, 0.15);\n",
              "      fill: #174EA6;\n",
              "    }\n",
              "\n",
              "    .colab-df-buttons div {\n",
              "      margin-bottom: 4px;\n",
              "    }\n",
              "\n",
              "    [theme=dark] .colab-df-convert {\n",
              "      background-color: #3B4455;\n",
              "      fill: #D2E3FC;\n",
              "    }\n",
              "\n",
              "    [theme=dark] .colab-df-convert:hover {\n",
              "      background-color: #434B5C;\n",
              "      box-shadow: 0px 1px 3px 1px rgba(0, 0, 0, 0.15);\n",
              "      filter: drop-shadow(0px 1px 2px rgba(0, 0, 0, 0.3));\n",
              "      fill: #FFFFFF;\n",
              "    }\n",
              "  </style>\n",
              "\n",
              "    <script>\n",
              "      const buttonEl =\n",
              "        document.querySelector('#df-652460a4-5fec-4610-a3bb-045ad096cd09 button.colab-df-convert');\n",
              "      buttonEl.style.display =\n",
              "        google.colab.kernel.accessAllowed ? 'block' : 'none';\n",
              "\n",
              "      async function convertToInteractive(key) {\n",
              "        const element = document.querySelector('#df-652460a4-5fec-4610-a3bb-045ad096cd09');\n",
              "        const dataTable =\n",
              "          await google.colab.kernel.invokeFunction('convertToInteractive',\n",
              "                                                    [key], {});\n",
              "        if (!dataTable) return;\n",
              "\n",
              "        const docLinkHtml = 'Like what you see? Visit the ' +\n",
              "          '<a target=\"_blank\" href=https://colab.research.google.com/notebooks/data_table.ipynb>data table notebook</a>'\n",
              "          + ' to learn more about interactive tables.';\n",
              "        element.innerHTML = '';\n",
              "        dataTable['output_type'] = 'display_data';\n",
              "        await google.colab.output.renderOutput(dataTable, element);\n",
              "        const docLink = document.createElement('div');\n",
              "        docLink.innerHTML = docLinkHtml;\n",
              "        element.appendChild(docLink);\n",
              "      }\n",
              "    </script>\n",
              "  </div>\n",
              "\n",
              "\n",
              "    <div id=\"df-52e04a4d-be75-43a2-9df8-789d534aa84e\">\n",
              "      <button class=\"colab-df-quickchart\" onclick=\"quickchart('df-52e04a4d-be75-43a2-9df8-789d534aa84e')\"\n",
              "                title=\"Suggest charts\"\n",
              "                style=\"display:none;\">\n",
              "\n",
              "<svg xmlns=\"http://www.w3.org/2000/svg\" height=\"24px\"viewBox=\"0 0 24 24\"\n",
              "     width=\"24px\">\n",
              "    <g>\n",
              "        <path d=\"M19 3H5c-1.1 0-2 .9-2 2v14c0 1.1.9 2 2 2h14c1.1 0 2-.9 2-2V5c0-1.1-.9-2-2-2zM9 17H7v-7h2v7zm4 0h-2V7h2v10zm4 0h-2v-4h2v4z\"/>\n",
              "    </g>\n",
              "</svg>\n",
              "      </button>\n",
              "\n",
              "<style>\n",
              "  .colab-df-quickchart {\n",
              "      --bg-color: #E8F0FE;\n",
              "      --fill-color: #1967D2;\n",
              "      --hover-bg-color: #E2EBFA;\n",
              "      --hover-fill-color: #174EA6;\n",
              "      --disabled-fill-color: #AAA;\n",
              "      --disabled-bg-color: #DDD;\n",
              "  }\n",
              "\n",
              "  [theme=dark] .colab-df-quickchart {\n",
              "      --bg-color: #3B4455;\n",
              "      --fill-color: #D2E3FC;\n",
              "      --hover-bg-color: #434B5C;\n",
              "      --hover-fill-color: #FFFFFF;\n",
              "      --disabled-bg-color: #3B4455;\n",
              "      --disabled-fill-color: #666;\n",
              "  }\n",
              "\n",
              "  .colab-df-quickchart {\n",
              "    background-color: var(--bg-color);\n",
              "    border: none;\n",
              "    border-radius: 50%;\n",
              "    cursor: pointer;\n",
              "    display: none;\n",
              "    fill: var(--fill-color);\n",
              "    height: 32px;\n",
              "    padding: 0;\n",
              "    width: 32px;\n",
              "  }\n",
              "\n",
              "  .colab-df-quickchart:hover {\n",
              "    background-color: var(--hover-bg-color);\n",
              "    box-shadow: 0 1px 2px rgba(60, 64, 67, 0.3), 0 1px 3px 1px rgba(60, 64, 67, 0.15);\n",
              "    fill: var(--button-hover-fill-color);\n",
              "  }\n",
              "\n",
              "  .colab-df-quickchart-complete:disabled,\n",
              "  .colab-df-quickchart-complete:disabled:hover {\n",
              "    background-color: var(--disabled-bg-color);\n",
              "    fill: var(--disabled-fill-color);\n",
              "    box-shadow: none;\n",
              "  }\n",
              "\n",
              "  .colab-df-spinner {\n",
              "    border: 2px solid var(--fill-color);\n",
              "    border-color: transparent;\n",
              "    border-bottom-color: var(--fill-color);\n",
              "    animation:\n",
              "      spin 1s steps(1) infinite;\n",
              "  }\n",
              "\n",
              "  @keyframes spin {\n",
              "    0% {\n",
              "      border-color: transparent;\n",
              "      border-bottom-color: var(--fill-color);\n",
              "      border-left-color: var(--fill-color);\n",
              "    }\n",
              "    20% {\n",
              "      border-color: transparent;\n",
              "      border-left-color: var(--fill-color);\n",
              "      border-top-color: var(--fill-color);\n",
              "    }\n",
              "    30% {\n",
              "      border-color: transparent;\n",
              "      border-left-color: var(--fill-color);\n",
              "      border-top-color: var(--fill-color);\n",
              "      border-right-color: var(--fill-color);\n",
              "    }\n",
              "    40% {\n",
              "      border-color: transparent;\n",
              "      border-right-color: var(--fill-color);\n",
              "      border-top-color: var(--fill-color);\n",
              "    }\n",
              "    60% {\n",
              "      border-color: transparent;\n",
              "      border-right-color: var(--fill-color);\n",
              "    }\n",
              "    80% {\n",
              "      border-color: transparent;\n",
              "      border-right-color: var(--fill-color);\n",
              "      border-bottom-color: var(--fill-color);\n",
              "    }\n",
              "    90% {\n",
              "      border-color: transparent;\n",
              "      border-bottom-color: var(--fill-color);\n",
              "    }\n",
              "  }\n",
              "</style>\n",
              "\n",
              "      <script>\n",
              "        async function quickchart(key) {\n",
              "          const quickchartButtonEl =\n",
              "            document.querySelector('#' + key + ' button');\n",
              "          quickchartButtonEl.disabled = true;  // To prevent multiple clicks.\n",
              "          quickchartButtonEl.classList.add('colab-df-spinner');\n",
              "          try {\n",
              "            const charts = await google.colab.kernel.invokeFunction(\n",
              "                'suggestCharts', [key], {});\n",
              "          } catch (error) {\n",
              "            console.error('Error during call to suggestCharts:', error);\n",
              "          }\n",
              "          quickchartButtonEl.classList.remove('colab-df-spinner');\n",
              "          quickchartButtonEl.classList.add('colab-df-quickchart-complete');\n",
              "        }\n",
              "        (() => {\n",
              "          let quickchartButtonEl =\n",
              "            document.querySelector('#df-52e04a4d-be75-43a2-9df8-789d534aa84e button');\n",
              "          quickchartButtonEl.style.display =\n",
              "            google.colab.kernel.accessAllowed ? 'block' : 'none';\n",
              "        })();\n",
              "      </script>\n",
              "    </div>\n",
              "    </div>\n",
              "  </div>\n"
            ],
            "application/vnd.google.colaboratory.intrinsic+json": {
              "type": "dataframe",
              "variable_name": "data",
              "summary": "{\n  \"name\": \"data\",\n  \"rows\": 2500,\n  \"fields\": [\n    {\n      \"column\": \"userId\",\n      \"properties\": {\n        \"dtype\": \"number\",\n        \"std\": 721,\n        \"min\": 1,\n        \"max\": 2500,\n        \"num_unique_values\": 2500,\n        \"samples\": [\n          1448,\n          1115,\n          1065\n        ],\n        \"semantic_type\": \"\",\n        \"description\": \"\"\n      }\n    },\n    {\n      \"column\": \"subscriptionType\",\n      \"properties\": {\n        \"dtype\": \"category\",\n        \"num_unique_values\": 3,\n        \"samples\": [\n          \"Basic\",\n          \"Premium\",\n          \"Standard\"\n        ],\n        \"semantic_type\": \"\",\n        \"description\": \"\"\n      }\n    },\n    {\n      \"column\": \"monthlyRevenue\",\n      \"properties\": {\n        \"dtype\": \"number\",\n        \"std\": 1,\n        \"min\": 10,\n        \"max\": 15,\n        \"num_unique_values\": 6,\n        \"samples\": [\n          10,\n          15,\n          14\n        ],\n        \"semantic_type\": \"\",\n        \"description\": \"\"\n      }\n    },\n    {\n      \"column\": \"joinDate\",\n      \"properties\": {\n        \"dtype\": \"date\",\n        \"min\": \"2021-05-09 00:00:00\",\n        \"max\": \"2023-12-01 00:00:00\",\n        \"num_unique_values\": 300,\n        \"samples\": [\n          \"2022-02-08 00:00:00\",\n          \"2022-08-18 00:00:00\",\n          \"2022-07-16 00:00:00\"\n        ],\n        \"semantic_type\": \"\",\n        \"description\": \"\"\n      }\n    },\n    {\n      \"column\": \"lastPaymentDate\",\n      \"properties\": {\n        \"dtype\": \"date\",\n        \"min\": \"2023-01-07 00:00:00\",\n        \"max\": \"2023-12-07 00:00:00\",\n        \"num_unique_values\": 26,\n        \"samples\": [\n          \"2023-06-20 00:00:00\",\n          \"2023-06-07 00:00:00\",\n          \"2023-10-06 00:00:00\"\n        ],\n        \"semantic_type\": \"\",\n        \"description\": \"\"\n      }\n    },\n    {\n      \"column\": \"country\",\n      \"properties\": {\n        \"dtype\": \"category\",\n        \"num_unique_values\": 10,\n        \"samples\": [\n          \"Spain\",\n          \"Canada\",\n          \"France\"\n        ],\n        \"semantic_type\": \"\",\n        \"description\": \"\"\n      }\n    },\n    {\n      \"column\": \"age\",\n      \"properties\": {\n        \"dtype\": \"number\",\n        \"std\": 7,\n        \"min\": 26,\n        \"max\": 51,\n        \"num_unique_values\": 26,\n        \"samples\": [\n          37,\n          30,\n          28\n        ],\n        \"semantic_type\": \"\",\n        \"description\": \"\"\n      }\n    },\n    {\n      \"column\": \"gender\",\n      \"properties\": {\n        \"dtype\": \"category\",\n        \"num_unique_values\": 2,\n        \"samples\": [\n          \"Female\",\n          \"Male\"\n        ],\n        \"semantic_type\": \"\",\n        \"description\": \"\"\n      }\n    },\n    {\n      \"column\": \"device\",\n      \"properties\": {\n        \"dtype\": \"category\",\n        \"num_unique_values\": 4,\n        \"samples\": [\n          \"Tablet\",\n          \"Laptop\"\n        ],\n        \"semantic_type\": \"\",\n        \"description\": \"\"\n      }\n    },\n    {\n      \"column\": \"planDuration\",\n      \"properties\": {\n        \"dtype\": \"category\",\n        \"num_unique_values\": 1,\n        \"samples\": [\n          \"1 Month\"\n        ],\n        \"semantic_type\": \"\",\n        \"description\": \"\"\n      }\n    }\n  ]\n}"
            }
          },
          "metadata": {},
          "execution_count": 27
        }
      ]
    },
    {
      "cell_type": "markdown",
      "source": [
        "1 - количество уникальных пользователей"
      ],
      "metadata": {
        "id": "J1o8RIi_W2fW"
      }
    },
    {
      "cell_type": "code",
      "source": [
        "# Подсчёт количества уникальных пользователей\n",
        "unique_users_count = data['userId'].nunique()"
      ],
      "metadata": {
        "id": "gpH_fUpTXb1q"
      },
      "execution_count": null,
      "outputs": []
    },
    {
      "cell_type": "code",
      "source": [
        "print(\"Количество уникальных пользователей:\", unique_users_count)"
      ],
      "metadata": {
        "colab": {
          "base_uri": "https://localhost:8080/"
        },
        "id": "TnEcU7ktXh0i",
        "outputId": "5f957e96-7869-448b-d6b4-f547867c70d8"
      },
      "execution_count": null,
      "outputs": [
        {
          "output_type": "stream",
          "name": "stdout",
          "text": [
            "Количество уникальных пользователей: 2500\n"
          ]
        }
      ]
    },
    {
      "cell_type": "markdown",
      "source": [
        "2 - изучить возраст пользователей (визуализировать)"
      ],
      "metadata": {
        "id": "C5GNhO6tXkO3"
      }
    },
    {
      "cell_type": "code",
      "source": [
        "import matplotlib.pyplot as plt\n",
        "import seaborn as sns"
      ],
      "metadata": {
        "id": "HilAeLcXX6ht"
      },
      "execution_count": null,
      "outputs": []
    },
    {
      "cell_type": "code",
      "source": [
        "# Убедимся, что в колонке Age нет пропусков/аномалий\n",
        "print(data['age'].describe())\n",
        "plt.figure(figsize=(12,5))"
      ],
      "metadata": {
        "colab": {
          "base_uri": "https://localhost:8080/",
          "height": 217
        },
        "id": "r8vB--x1XyKd",
        "outputId": "e37c1e80-c11e-4c17-fb5a-c39d35a30320"
      },
      "execution_count": null,
      "outputs": [
        {
          "output_type": "stream",
          "name": "stdout",
          "text": [
            "count    2500.000000\n",
            "mean       38.795600\n",
            "std         7.171778\n",
            "min        26.000000\n",
            "25%        32.000000\n",
            "50%        39.000000\n",
            "75%        45.000000\n",
            "max        51.000000\n",
            "Name: age, dtype: float64\n"
          ]
        },
        {
          "output_type": "execute_result",
          "data": {
            "text/plain": [
              "<Figure size 1200x500 with 0 Axes>"
            ]
          },
          "metadata": {},
          "execution_count": 37
        },
        {
          "output_type": "display_data",
          "data": {
            "text/plain": [
              "<Figure size 1200x500 with 0 Axes>"
            ]
          },
          "metadata": {}
        }
      ]
    },
    {
      "cell_type": "code",
      "source": [
        "# Гистограмма + KDE\n",
        "plt.subplot(1,2,1)\n",
        "sns.histplot(data['age'], bins=20, kde=True, color='skyblue')\n",
        "plt.title('Распределение возраста пользователей')\n",
        "plt.xlabel('Возраст')\n",
        "plt.ylabel('Количество')\n",
        "\n",
        "# Boxplot (для поиска выбросов)\n",
        "plt.subplot(1,2,2)\n",
        "sns.boxplot(x=data['age'], color='lightgreen')\n",
        "plt.title('Boxplot возраста пользователей')\n",
        "\n",
        "plt.tight_layout()\n",
        "plt.show()"
      ],
      "metadata": {
        "colab": {
          "base_uri": "https://localhost:8080/",
          "height": 487
        },
        "id": "PcFfrskAX0eu",
        "outputId": "f54ecce1-dc99-43ff-e52c-57e56ce1a44c"
      },
      "execution_count": null,
      "outputs": [
        {
          "output_type": "display_data",
          "data": {
            "text/plain": [
              "<Figure size 640x480 with 2 Axes>"
            ],
            "image/png": "[encoded data removed]"
          },
          "metadata": {}
        }
      ]
    },
    {
      "cell_type": "markdown",
      "source": [
        "3 - изучить пол пользователей (визуализировать)"
      ],
      "metadata": {
        "id": "zvdB9XDjYTyR"
      }
    },
    {
      "cell_type": "code",
      "source": [
        "# Подсчитаем количество пользователей по полу\n",
        "gender_counts = data['gender'].value_counts()\n",
        "print(\"Распределение пользователей по полу:\")\n",
        "print(gender_counts)"
      ],
      "metadata": {
        "colab": {
          "base_uri": "https://localhost:8080/"
        },
        "id": "0SxfwUvUYvwB",
        "outputId": "f25cb578-a2be-4eca-a676-68b54581e4e7"
      },
      "execution_count": null,
      "outputs": [
        {
          "output_type": "stream",
          "name": "stdout",
          "text": [
            "Распределение пользователей по полу:\n",
            "gender\n",
            "Female    1257\n",
            "Male      1243\n",
            "Name: count, dtype: int64\n"
          ]
        }
      ]
    },
    {
      "cell_type": "code",
      "source": [
        "# Визуализация: Barplot\n",
        "plt.figure(figsize=(12,5))\n",
        "\n",
        "plt.subplot(1,2,1)\n",
        "sns.barplot(x=gender_counts.index, y=gender_counts.values, palette='pastel')\n",
        "plt.title('Распределение пользователей по полу (Barplot)')\n",
        "plt.xlabel('Пол')\n",
        "plt.ylabel('Количество пользователей')\n",
        "\n",
        "# Визуализация: Pie chart\n",
        "plt.subplot(1,2,2)\n",
        "plt.pie(gender_counts, labels=gender_counts.index, autopct='%1.1f%%',\n",
        "        startangle=90, colors=sns.color_palette(\"pastel\"))\n",
        "plt.title('Распределение пользователей по полу (Pie chart)')\n",
        "\n",
        "plt.tight_layout()\n",
        "plt.show()"
      ],
      "metadata": {
        "colab": {
          "base_uri": "https://localhost:8080/",
          "height": 587
        },
        "id": "-Yzhvir0aVfj",
        "outputId": "37607724-46cc-4f87-a1fc-755011dc0635"
      },
      "execution_count": null,
      "outputs": [
        {
          "output_type": "stream",
          "name": "stderr",
          "text": [
            "/tmp/ipython-input-2179356262.py:5: FutureWarning: \n",
            "\n",
            "Passing `palette` without assigning `hue` is deprecated and will be removed in v0.14.0. Assign the `x` variable to `hue` and set `legend=False` for the same effect.\n",
            "\n",
            "  sns.barplot(x=gender_counts.index, y=gender_counts.values, palette='pastel')\n"
          ]
        },
        {
          "output_type": "display_data",
          "data": {
            "text/plain": [
              "<Figure size 1200x500 with 2 Axes>"
            ],
            "image/png": "[encoded data removed]"
          },
          "metadata": {}
        }
      ]
    },
    {
      "cell_type": "markdown",
      "source": [
        "4 - изучить девайсы пользователей (визуализировать)"
      ],
      "metadata": {
        "id": "1G4P1pv2YX1e"
      }
    },
    {
      "cell_type": "code",
      "source": [
        "# Посмотрим на количество пользователей по каждому устройству\n",
        "device_counts = data['device'].value_counts()\n",
        "\n",
        "print(device_counts)"
      ],
      "metadata": {
        "colab": {
          "base_uri": "https://localhost:8080/"
        },
        "id": "rAUP5DJcajKK",
        "outputId": "5387a26c-0efe-4e1e-9d49-054eab357d81"
      },
      "execution_count": null,
      "outputs": [
        {
          "output_type": "stream",
          "name": "stdout",
          "text": [
            "device\n",
            "Laptop        636\n",
            "Tablet        633\n",
            "Smartphone    621\n",
            "Smart TV      610\n",
            "Name: count, dtype: int64\n"
          ]
        }
      ]
    },
    {
      "cell_type": "code",
      "source": [
        "# Визуализация\n",
        "plt.figure(figsize=(6,6))\n",
        "sns.countplot(x=\"device\", data=data, palette=\"Set2\", order=device_counts.index)\n",
        "plt.title(\"Распределение пользователей по устройствам (Seaborn)\")\n",
        "plt.xticks(rotation=45)\n",
        "plt.show()"
      ],
      "metadata": {
        "colab": {
          "base_uri": "https://localhost:8080/",
          "height": 731
        },
        "id": "NqWhyOQ_anra",
        "outputId": "d3d4055b-655d-4f25-f1b4-3e64554747d8"
      },
      "execution_count": null,
      "outputs": [
        {
          "output_type": "stream",
          "name": "stderr",
          "text": [
            "/tmp/ipython-input-823154442.py:3: FutureWarning: \n",
            "\n",
            "Passing `palette` without assigning `hue` is deprecated and will be removed in v0.14.0. Assign the `x` variable to `hue` and set `legend=False` for the same effect.\n",
            "\n",
            "  sns.countplot(x=\"device\", data=data, palette=\"Set2\", order=device_counts.index)\n"
          ]
        },
        {
          "output_type": "display_data",
          "data": {
            "text/plain": [
              "<Figure size 600x600 with 1 Axes>"
            ],
            "image/png": "[encoded data removed]"
          },
          "metadata": {}
        }
      ]
    },
    {
      "cell_type": "markdown",
      "source": [
        "5 - изучить тип подписки пользователей (визуализировать)"
      ],
      "metadata": {
        "id": "grSsQTliYaLm"
      }
    },
    {
      "cell_type": "code",
      "source": [
        "# Подсчитаем количество пользователей по типу подписки\n",
        "subscription_counts = data['subscriptionType'].value_counts()\n",
        "print(subscription_counts)"
      ],
      "metadata": {
        "colab": {
          "base_uri": "https://localhost:8080/"
        },
        "id": "hFrXbhgQa-Pt",
        "outputId": "e8cd8bf5-b152-4e46-caeb-1849ea143d65"
      },
      "execution_count": null,
      "outputs": [
        {
          "output_type": "stream",
          "name": "stdout",
          "text": [
            "subscriptionType\n",
            "Basic       999\n",
            "Standard    768\n",
            "Premium     733\n",
            "Name: count, dtype: int64\n"
          ]
        }
      ]
    },
    {
      "cell_type": "code",
      "source": [
        "# Круговая диаграмма\n",
        "plt.figure(figsize=(6,6))\n",
        "subscription_counts.plot(kind='pie', autopct='%1.1f%%', startangle=90, colors=sns.color_palette(\"Set2\"))\n",
        "plt.ylabel(\"\")\n",
        "plt.title(\"Доля пользователей по типу подписки\")\n",
        "plt.show()"
      ],
      "metadata": {
        "colab": {
          "base_uri": "https://localhost:8080/",
          "height": 521
        },
        "id": "hr6l4T-_bPv5",
        "outputId": "b9369471-be60-496b-af33-caf0e6337296"
      },
      "execution_count": null,
      "outputs": [
        {
          "output_type": "display_data",
          "data": {
            "text/plain": [
              "<Figure size 600x600 with 1 Axes>"
            ],
            "image/png": "[encoded data removed]"
          },
          "metadata": {}
        }
      ]
    },
    {
      "cell_type": "markdown",
      "source": [
        "6 - изучить локацию пользователей (визуализировать)"
      ],
      "metadata": {
        "id": "fE5mIUBUYdV1"
      }
    },
    {
      "cell_type": "code",
      "source": [
        "# Подсчёт количества пользователей по странам\n",
        "country_counts = data['country'].value_counts()\n",
        "print(country_counts.head())  # топ-5 стран"
      ],
      "metadata": {
        "colab": {
          "base_uri": "https://localhost:8080/"
        },
        "id": "nlH5mYhjberZ",
        "outputId": "8aff2e36-4481-4c34-a12f-78f5336bd3d5"
      },
      "execution_count": null,
      "outputs": [
        {
          "output_type": "stream",
          "name": "stdout",
          "text": [
            "country\n",
            "United States     451\n",
            "Spain             451\n",
            "Canada            317\n",
            "United Kingdom    183\n",
            "Germany           183\n",
            "Name: count, dtype: int64\n"
          ]
        }
      ]
    },
    {
      "cell_type": "code",
      "source": [
        "# Гистограмма\n",
        "plt.figure(figsize=(10,6))\n",
        "country_counts.plot(kind='bar', color='cornflowerblue', edgecolor='black')\n",
        "plt.title(\"Распределение пользователей по странам\")\n",
        "plt.xlabel(\"Страна\")\n",
        "plt.ylabel(\"Количество пользователей\")\n",
        "plt.xticks(rotation=45)\n",
        "plt.show()"
      ],
      "metadata": {
        "colab": {
          "base_uri": "https://localhost:8080/",
          "height": 639
        },
        "id": "Ph8HG6Q2bs8u",
        "outputId": "39f48f7f-aeb5-4e1e-da75-70640d3f28df"
      },
      "execution_count": null,
      "outputs": [
        {
          "output_type": "display_data",
          "data": {
            "text/plain": [
              "<Figure size 1000x600 with 1 Axes>"
            ],
            "image/png": "[encoded data removed]"
          },
          "metadata": {}
        }
      ]
    },
    {
      "cell_type": "markdown",
      "source": [
        "7 - изучть динамику привлечения пользователей (Join Date)"
      ],
      "metadata": {
        "id": "4eoeLySWYhb1"
      }
    },
    {
      "cell_type": "code",
      "source": [
        "# Убедимся, что поле Join Date в формате даты\n",
        "data['joinDate'] = pd.to_datetime(data['joinDate'])"
      ],
      "metadata": {
        "id": "XSY3ZrdhcUs5"
      },
      "execution_count": null,
      "outputs": []
    },
    {
      "cell_type": "code",
      "source": [
        "# Посмотрим динамику по месяцам\n",
        "users_by_month = data.groupby(data['joinDate'].dt.to_period('M'))['userId'].nunique().reset_index()\n",
        "users_by_month['joinDate'] = users_by_month['joinDate'].dt.to_timestamp()"
      ],
      "metadata": {
        "id": "4oRFQlqFcXkd"
      },
      "execution_count": null,
      "outputs": []
    },
    {
      "cell_type": "code",
      "source": [
        "# Построим график\n",
        "plt.figure(figsize=(12,6))\n",
        "sns.lineplot(data=users_by_month, x='joinDate', y='userId', marker=\"o\")\n",
        "plt.title(\"Динамика привлечения пользователей (по месяцам)\")\n",
        "plt.xlabel(\"Месяц\")\n",
        "plt.ylabel(\"Количество новых пользователей\")\n",
        "plt.grid(True)\n",
        "plt.show()"
      ],
      "metadata": {
        "colab": {
          "base_uri": "https://localhost:8080/",
          "height": 564
        },
        "id": "lLyZEpXjcs9_",
        "outputId": "5334178f-a29c-4bc7-bbe8-63280e597b0c"
      },
      "execution_count": null,
      "outputs": [
        {
          "output_type": "display_data",
          "data": {
            "text/plain": [
              "<Figure size 1200x600 with 1 Axes>"
            ],
            "image/png": "[encoded data removed]"
          },
          "metadata": {}
        }
      ]
    },
    {
      "cell_type": "markdown",
      "source": [
        "8 - изучть динамику выручки сервиса (накопленное Monthly Revenue по месяцу с момента Join Date до момента Last Payment Date)"
      ],
      "metadata": {
        "id": "wtfn8cu-YkuW"
      }
    },
    {
      "cell_type": "code",
      "source": [
        "# Преобразуем даты\n",
        "data['joinDate'] = pd.to_datetime(data['joinDate'])\n",
        "data['lastPaymentDate'] = pd.to_datetime(data['lastPaymentDate'])"
      ],
      "metadata": {
        "id": "DIdFgGQvc8Sp"
      },
      "execution_count": null,
      "outputs": []
    },
    {
      "cell_type": "code",
      "source": [
        "# Функция для генерации списка месяцев подписки\n",
        "def generate_months(row):\n",
        "    return pd.date_range(start=row['joinDate'],\n",
        "                         end=row['lastPaymentDate'],\n",
        "                         freq='MS')  # MS = Month Start"
      ],
      "metadata": {
        "id": "P4e2tJ_jdc99"
      },
      "execution_count": null,
      "outputs": []
    },
    {
      "cell_type": "code",
      "source": [
        "# Разворачиваем данные: каждая строка = платеж за месяц\n",
        "expanded_list = []\n",
        "for _, row in data.iterrows():\n",
        "    months = generate_months(row)\n",
        "    for m in months:\n",
        "        expanded_list.append({\n",
        "            'userId': row['userId'],\n",
        "            'month': m,\n",
        "            'monthlyRevenue': row['monthlyRevenue']\n",
        "        })\n",
        "\n",
        "expanded = pd.DataFrame(expanded_list)"
      ],
      "metadata": {
        "id": "eTcaYuz9dgXV"
      },
      "execution_count": null,
      "outputs": []
    },
    {
      "cell_type": "code",
      "source": [
        "# Теперь группируем по месяцам\n",
        "revenue_by_month = expanded.groupby('month', as_index=False)['monthlyRevenue'].sum()"
      ],
      "metadata": {
        "id": "xsfBElpOd0f5"
      },
      "execution_count": null,
      "outputs": []
    },
    {
      "cell_type": "code",
      "source": [
        "# Добавляем накопленную выручку\n",
        "revenue_by_month['cumulativeRevenue'] = revenue_by_month['monthlyRevenue'].cumsum()\n",
        "\n",
        "print(revenue_by_month.head())"
      ],
      "metadata": {
        "colab": {
          "base_uri": "https://localhost:8080/"
        },
        "id": "tZjIhwz7f7A-",
        "outputId": "d4c68a28-7fcb-4feb-bc79-2a8e856186a6"
      },
      "execution_count": null,
      "outputs": [
        {
          "output_type": "stream",
          "name": "stdout",
          "text": [
            "       month  monthlyRevenue  cumulativeRevenue\n",
            "0 2021-06-01              39                 39\n",
            "1 2021-07-01              39                 78\n",
            "2 2021-08-01              39                117\n",
            "3 2021-09-01              51                168\n",
            "4 2021-10-01              99                267\n"
          ]
        }
      ]
    },
    {
      "cell_type": "markdown",
      "source": [
        "9 - разбить клиентов на корзины по возрасту и определить самую платежеспособную группу"
      ],
      "metadata": {
        "id": "xsbB-2zmYnJO"
      }
    },
    {
      "cell_type": "code",
      "source": [
        "# Определяем возрастные корзины\n",
        "bins = [0, 19, 29, 39, 49, 100]  # диапазоны возрастов\n",
        "labels = ['<20', '20-29', '30-39', '40-49', '50+']"
      ],
      "metadata": {
        "id": "QDbJjRmcnTnb"
      },
      "execution_count": null,
      "outputs": []
    },
    {
      "cell_type": "code",
      "source": [
        "# Создаем новый столбец с возрастной категорией\n",
        "data['ageGroup'] = pd.cut(data['age'], bins=bins, labels=labels, right=True)"
      ],
      "metadata": {
        "id": "AP4YUIyRnUeS"
      },
      "execution_count": null,
      "outputs": []
    },
    {
      "cell_type": "code",
      "source": [
        "# Группируем по возрастным корзинам и считаем суммарный доход\n",
        "revenue_by_age = data.groupby('ageGroup')['monthlyRevenue'].sum().reset_index()"
      ],
      "metadata": {
        "colab": {
          "base_uri": "https://localhost:8080/"
        },
        "id": "O9v5qEckncIu",
        "outputId": "de3c8d84-e42e-4568-d261-cbd5db172846"
      },
      "execution_count": null,
      "outputs": [
        {
          "output_type": "stream",
          "name": "stderr",
          "text": [
            "/tmp/ipython-input-2298542373.py:2: FutureWarning: The default of observed=False is deprecated and will be changed to True in a future version of pandas. Pass observed=False to retain current behavior or observed=True to adopt the future default and silence this warning.\n",
            "  revenue_by_age = data.groupby('ageGroup')['monthlyRevenue'].sum().reset_index()\n"
          ]
        }
      ]
    },
    {
      "cell_type": "code",
      "source": [
        "# Находим самую платежеспособную группу\n",
        "top_group = revenue_by_age.loc[revenue_by_age['monthlyRevenue'].idxmax()]"
      ],
      "metadata": {
        "id": "jjAjLF_ZnwIl"
      },
      "execution_count": null,
      "outputs": []
    },
    {
      "cell_type": "code",
      "source": [
        "print(\"Доход по возрастным группам:\")\n",
        "print(revenue_by_age)\n",
        "print(\"\\nСамая платежеспособная группа:\")\n",
        "print(top_group)"
      ],
      "metadata": {
        "colab": {
          "base_uri": "https://localhost:8080/"
        },
        "id": "KEWpTHNHn0M-",
        "outputId": "421ab4a4-57ae-45a6-9412-631ec930c756"
      },
      "execution_count": null,
      "outputs": [
        {
          "output_type": "stream",
          "name": "stdout",
          "text": [
            "Доход по возрастным группам:\n",
            "  ageGroup  monthlyRevenue\n",
            "0      <20               0\n",
            "1    20-29            3871\n",
            "2    30-39           12747\n",
            "3    40-49           12465\n",
            "4      50+            2188\n",
            "\n",
            "Самая платежеспособная группа:\n",
            "ageGroup          30-39\n",
            "monthlyRevenue    12747\n",
            "Name: 2, dtype: object\n"
          ]
        }
      ]
    },
    {
      "cell_type": "markdown",
      "source": [
        "10 - посмотреть зависимость типа тарифа от группы возраста пользователя"
      ],
      "metadata": {
        "id": "TcEwCH0hYqV2"
      }
    },
    {
      "cell_type": "code",
      "source": [
        "# Определяем возрастные корзины\n",
        "bins = [0, 19, 29, 39, 49, 59, 100]\n",
        "labels = ['<20', '20-29', '30-39', '40-49', '50-59', '60+']"
      ],
      "metadata": {
        "id": "QpDIV3NroH4b"
      },
      "execution_count": null,
      "outputs": []
    },
    {
      "cell_type": "code",
      "source": [
        "# Добавляем колонку с возрастной группой\n",
        "data['Age Group'] = pd.cut(data['age'], bins=bins, labels=labels, right=True)"
      ],
      "metadata": {
        "id": "Hz0NC5OPoIol"
      },
      "execution_count": null,
      "outputs": []
    },
    {
      "cell_type": "code",
      "source": [
        "# Считаем количество пользователей по каждой возрастной группе и тарифу\n",
        "tariff_by_age = data.groupby(['Age Group', 'subscriptionType'])['userId'].count().reset_index()"
      ],
      "metadata": {
        "colab": {
          "base_uri": "https://localhost:8080/"
        },
        "id": "HdZHW68VoNmG",
        "outputId": "dc23babc-c730-4cde-e18a-c26b4643c49e"
      },
      "execution_count": null,
      "outputs": [
        {
          "output_type": "stream",
          "name": "stderr",
          "text": [
            "/tmp/ipython-input-3530915663.py:2: FutureWarning: The default of observed=False is deprecated and will be changed to True in a future version of pandas. Pass observed=False to retain current behavior or observed=True to adopt the future default and silence this warning.\n",
            "  tariff_by_age = data.groupby(['Age Group', 'subscriptionType'])['userId'].count().reset_index()\n"
          ]
        }
      ]
    },
    {
      "cell_type": "code",
      "source": [
        "# Для удобства переименуем колонку\n",
        "tariff_by_age.rename(columns={'userId': 'usersCount'}, inplace=True)\n",
        "print(tariff_by_age)"
      ],
      "metadata": {
        "colab": {
          "base_uri": "https://localhost:8080/"
        },
        "id": "hvuUF2LuoTpu",
        "outputId": "4f6bf5fd-eb09-4b19-962d-42dbb4d5d073"
      },
      "execution_count": null,
      "outputs": [
        {
          "output_type": "stream",
          "name": "stdout",
          "text": [
            "   Age Group subscriptionType  usersCount\n",
            "0        <20            Basic           0\n",
            "1        <20          Premium           0\n",
            "2        <20         Standard           0\n",
            "3      20-29            Basic         123\n",
            "4      20-29          Premium          98\n",
            "5      20-29         Standard          86\n",
            "6      30-39            Basic         419\n",
            "7      30-39          Premium         293\n",
            "8      30-39         Standard         308\n",
            "9      40-49            Basic         388\n",
            "10     40-49          Premium         290\n",
            "11     40-49         Standard         318\n",
            "12     50-59            Basic          69\n",
            "13     50-59          Premium          52\n",
            "14     50-59         Standard          56\n",
            "15       60+            Basic           0\n",
            "16       60+          Premium           0\n",
            "17       60+         Standard           0\n"
          ]
        }
      ]
    },
    {
      "cell_type": "code",
      "source": [
        "# Визуализация: распределение тарифов по возрастным группам\n",
        "plt.figure(figsize=(10,6))\n",
        "sns.barplot(data=tariff_by_age, x='Age Group', y='usersCount', hue='subscriptionType')\n",
        "plt.title('Распределение тарифов по возрастным группам')\n",
        "plt.ylabel('Количество пользователей')\n",
        "plt.xlabel('Возрастная группа')\n",
        "plt.legend(title='Тариф')\n",
        "plt.show()"
      ],
      "metadata": {
        "colab": {
          "base_uri": "https://localhost:8080/",
          "height": 564
        },
        "id": "lipZX-NVoWg-",
        "outputId": "e90a7b91-335e-4d10-b13e-c6d4982e48bc"
      },
      "execution_count": null,
      "outputs": [
        {
          "output_type": "display_data",
          "data": {
            "text/plain": [
              "<Figure size 1000x600 with 1 Axes>"
            ],
            "image/png": "[encoded data removed]"
          },
          "metadata": {}
        }
      ]
    },
    {
      "cell_type": "markdown",
      "source": [
        "11 - посмотреть зависимость типа тарифа от страны пользователя"
      ],
      "metadata": {
        "id": "4KYD-dc8YtNl"
      }
    },
    {
      "cell_type": "code",
      "source": [
        "# Считаем количество пользователей по стране и тарифу\n",
        "tariff_by_country = (\n",
        "    data.groupby(['country', 'subscriptionType'])['userId']\n",
        "    .count()\n",
        "    .reset_index()\n",
        "    .rename(columns={'userId': 'usersCount'})\n",
        ")\n",
        "\n",
        "print(tariff_by_country.head())"
      ],
      "metadata": {
        "colab": {
          "base_uri": "https://localhost:8080/"
        },
        "id": "ef5rmu_io_X5",
        "outputId": "d852724a-0a5c-4b7b-b384-10982e388670"
      },
      "execution_count": null,
      "outputs": [
        {
          "output_type": "stream",
          "name": "stdout",
          "text": [
            "     country subscriptionType  usersCount\n",
            "0  Australia            Basic          31\n",
            "1  Australia          Premium         101\n",
            "2  Australia         Standard          51\n",
            "3     Brazil            Basic         146\n",
            "4     Brazil          Premium          33\n"
          ]
        }
      ]
    },
    {
      "cell_type": "code",
      "source": [
        "# Визуализация: распределение тарифов по странам\n",
        "plt.figure(figsize=(12,6))\n",
        "sns.barplot(data=tariff_by_country,\n",
        "            x='country', y='usersCount', hue='subscriptionType')\n",
        "plt.title('Распределение тарифов по странам')\n",
        "plt.ylabel('Количество пользователей')\n",
        "plt.xlabel('Страна')\n",
        "plt.xticks(rotation=45)\n",
        "plt.legend(title='Тариф')\n",
        "plt.show()"
      ],
      "metadata": {
        "colab": {
          "base_uri": "https://localhost:8080/",
          "height": 639
        },
        "id": "zkX5nJQopUHG",
        "outputId": "c6298ee4-0e66-4131-e4cc-abf37bf7a485"
      },
      "execution_count": null,
      "outputs": [
        {
          "output_type": "display_data",
          "data": {
            "text/plain": [
              "<Figure size 1200x600 with 1 Axes>"
            ],
            "image/png": "[encoded data removed]"
          },
          "metadata": {}
        }
      ]
    }
  ]
}